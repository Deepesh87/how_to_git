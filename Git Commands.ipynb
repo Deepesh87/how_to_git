{
 "cells": [
  {
   "cell_type": "code",
   "execution_count": 1,
   "metadata": {},
   "outputs": [],
   "source": [
    "#Check git version\n",
    "git --version\n",
    "#Local Repo"
   ]
  },
  {
   "cell_type": "code",
   "execution_count": null,
   "metadata": {},
   "outputs": [],
   "source": [
    "#Create a Folder. Want this to be the local repo\n",
    "git init #this will create soem hidden files under a folder called .git"
   ]
  },
  {
   "cell_type": "code",
   "execution_count": null,
   "metadata": {},
   "outputs": [],
   "source": [
    "#To add files to the staging are use\n",
    "git add 'filename.ext'"
   ]
  },
  {
   "cell_type": "code",
   "execution_count": null,
   "metadata": {},
   "outputs": [],
   "source": [
    "#to remove the file from staging area\n",
    "git rm --cached 'filename.ext'  "
   ]
  },
  {
   "cell_type": "code",
   "execution_count": null,
   "metadata": {},
   "outputs": [],
   "source": [
    "git add *.ipynb #will add all ipynb file to staging area\n",
    "git add. #will add all files to staging area"
   ]
  },
  {
   "cell_type": "code",
   "execution_count": null,
   "metadata": {},
   "outputs": [],
   "source": [
    "#to commit a file\n",
    "git commit -m 'comments on the change'"
   ]
  },
  {
   "cell_type": "code",
   "execution_count": null,
   "metadata": {},
   "outputs": [],
   "source": [
    "#to ignore a particular file  even if we write--> git add .\n",
    "touch .gitignore "
   ]
  },
  {
   "cell_type": "code",
   "execution_count": null,
   "metadata": {},
   "outputs": [],
   "source": [
    "#lets say e have 2 folders dir1 and dir 2 and some files within them. We donot want dir1 to be tracked by git\n",
    "#then open the .gitignore  file and add /dir1 and save.\n",
    "git status #and dir1 wont appear at all "
   ]
  },
  {
   "cell_type": "code",
   "execution_count": null,
   "metadata": {},
   "outputs": [],
   "source": [
    "#to add a new brach ( so you dont by mistake add nay errors on master)\n",
    "#wont take you from master to the new brach. you wil still be on master (can be checked by git status)\n",
    "git branch name_the_new_branch \n",
    "\n",
    "git checkout name_the_new_branch #to move to the new brach"
   ]
  },
  {
   "cell_type": "code",
   "execution_count": null,
   "metadata": {},
   "outputs": [],
   "source": [
    "#to merge master with any other brach\n",
    "#checkout to amster\n",
    "git merge name_the_new_branch"
   ]
  },
  {
   "cell_type": "code",
   "execution_count": null,
   "metadata": {},
   "outputs": [],
   "source": [
    "git remote #to chekc whihc remote repository are we linked to\n",
    "#to link to a remote repository get the link of the repo from github\n",
    "git remote add origin paste_the_link_here\n",
    "git remote #will give you origin, you at at origin now\n",
    "git push -u origin master"
   ]
  },
  {
   "cell_type": "code",
   "execution_count": null,
   "metadata": {},
   "outputs": [],
   "source": []
  }
 ],
 "metadata": {
  "kernelspec": {
   "display_name": "Python 3",
   "language": "python",
   "name": "python3"
  },
  "language_info": {
   "codemirror_mode": {
    "name": "ipython",
    "version": 3
   },
   "file_extension": ".py",
   "mimetype": "text/x-python",
   "name": "python",
   "nbconvert_exporter": "python",
   "pygments_lexer": "ipython3",
   "version": "3.6.5"
  }
 },
 "nbformat": 4,
 "nbformat_minor": 2
}
